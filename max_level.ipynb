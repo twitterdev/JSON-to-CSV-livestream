{
 "cells": [
  {
   "cell_type": "code",
   "execution_count": 1,
   "metadata": {},
   "outputs": [],
   "source": [
    "import pandas as pd\n",
    "import requests\n",
    "import os"
   ]
  },
  {
   "cell_type": "code",
   "execution_count": 2,
   "metadata": {},
   "outputs": [],
   "source": [
    "bearer_token = os.environ.get('BEARER_TOKEN')\n",
    "headers = {\"Authorization\": \"Bearer {}\".format(bearer_token)}"
   ]
  },
  {
   "cell_type": "code",
   "execution_count": 3,
   "metadata": {},
   "outputs": [],
   "source": [
    "url = \"https://api.twitter.com/2/tweets/search/recent\"\n",
    "params = {\"query\":\"from:TwitterDev\", \"tweet.fields\":\"public_metrics\", \"max_results\":\"15\"}\n",
    "response = requests.request(\"GET\", url, headers=headers, params=params).json()"
   ]
  },
  {
   "cell_type": "code",
   "execution_count": 4,
   "metadata": {},
   "outputs": [],
   "source": [
    "data = response['data']\n",
    "normalized = pd.json_normalize(data, max_level=3)"
   ]
  },
  {
   "cell_type": "code",
   "execution_count": 5,
   "metadata": {},
   "outputs": [
    {
     "data": {
      "text/html": [
       "<div>\n",
       "<style scoped>\n",
       "    .dataframe tbody tr th:only-of-type {\n",
       "        vertical-align: middle;\n",
       "    }\n",
       "\n",
       "    .dataframe tbody tr th {\n",
       "        vertical-align: top;\n",
       "    }\n",
       "\n",
       "    .dataframe thead th {\n",
       "        text-align: right;\n",
       "    }\n",
       "</style>\n",
       "<table border=\"1\" class=\"dataframe\">\n",
       "  <thead>\n",
       "    <tr style=\"text-align: right;\">\n",
       "      <th></th>\n",
       "      <th>id</th>\n",
       "      <th>text</th>\n",
       "      <th>public_metrics.retweet_count</th>\n",
       "      <th>public_metrics.reply_count</th>\n",
       "      <th>public_metrics.like_count</th>\n",
       "      <th>public_metrics.quote_count</th>\n",
       "    </tr>\n",
       "  </thead>\n",
       "  <tbody>\n",
       "    <tr>\n",
       "      <th>0</th>\n",
       "      <td>1371853548762333187</td>\n",
       "      <td>Live now! https://t.co/sC2M3eRpPk</td>\n",
       "      <td>2</td>\n",
       "      <td>0</td>\n",
       "      <td>13</td>\n",
       "      <td>0</td>\n",
       "    </tr>\n",
       "    <tr>\n",
       "      <th>1</th>\n",
       "      <td>1371588329368657923</td>\n",
       "      <td>Hope to see you tomorrow at 12 pm EST! \\nhttps...</td>\n",
       "      <td>0</td>\n",
       "      <td>2</td>\n",
       "      <td>16</td>\n",
       "      <td>0</td>\n",
       "    </tr>\n",
       "    <tr>\n",
       "      <th>2</th>\n",
       "      <td>1371363033352638467</td>\n",
       "      <td>🔎 If you're using v2 full-archive search for A...</td>\n",
       "      <td>5</td>\n",
       "      <td>1</td>\n",
       "      <td>29</td>\n",
       "      <td>1</td>\n",
       "    </tr>\n",
       "    <tr>\n",
       "      <th>3</th>\n",
       "      <td>1370110639545417729</td>\n",
       "      <td>On Tuesday at 12 pm EST, @jessicagarson will c...</td>\n",
       "      <td>11</td>\n",
       "      <td>1</td>\n",
       "      <td>38</td>\n",
       "      <td>2</td>\n",
       "    </tr>\n",
       "    <tr>\n",
       "      <th>4</th>\n",
       "      <td>1370028373792071687</td>\n",
       "      <td>“I have been a developer from a young age,” sa...</td>\n",
       "      <td>0</td>\n",
       "      <td>3</td>\n",
       "      <td>12</td>\n",
       "      <td>0</td>\n",
       "    </tr>\n",
       "    <tr>\n",
       "      <th>5</th>\n",
       "      <td>1370028372701585408</td>\n",
       "      <td>“The idea of Threader came from the desire to ...</td>\n",
       "      <td>0</td>\n",
       "      <td>2</td>\n",
       "      <td>10</td>\n",
       "      <td>1</td>\n",
       "    </tr>\n",
       "    <tr>\n",
       "      <th>6</th>\n",
       "      <td>1370028371585814532</td>\n",
       "      <td>Twitter is where people come to share, learn, ...</td>\n",
       "      <td>13</td>\n",
       "      <td>4</td>\n",
       "      <td>75</td>\n",
       "      <td>5</td>\n",
       "    </tr>\n",
       "  </tbody>\n",
       "</table>\n",
       "</div>"
      ],
      "text/plain": [
       "                    id                                               text  \\\n",
       "0  1371853548762333187                  Live now! https://t.co/sC2M3eRpPk   \n",
       "1  1371588329368657923  Hope to see you tomorrow at 12 pm EST! \\nhttps...   \n",
       "2  1371363033352638467  🔎 If you're using v2 full-archive search for A...   \n",
       "3  1370110639545417729  On Tuesday at 12 pm EST, @jessicagarson will c...   \n",
       "4  1370028373792071687  “I have been a developer from a young age,” sa...   \n",
       "5  1370028372701585408  “The idea of Threader came from the desire to ...   \n",
       "6  1370028371585814532  Twitter is where people come to share, learn, ...   \n",
       "\n",
       "   public_metrics.retweet_count  public_metrics.reply_count  \\\n",
       "0                             2                           0   \n",
       "1                             0                           2   \n",
       "2                             5                           1   \n",
       "3                            11                           1   \n",
       "4                             0                           3   \n",
       "5                             0                           2   \n",
       "6                            13                           4   \n",
       "\n",
       "   public_metrics.like_count  public_metrics.quote_count  \n",
       "0                         13                           0  \n",
       "1                         16                           0  \n",
       "2                         29                           1  \n",
       "3                         38                           2  \n",
       "4                         12                           0  \n",
       "5                         10                           1  \n",
       "6                         75                           5  "
      ]
     },
     "execution_count": 5,
     "metadata": {},
     "output_type": "execute_result"
    }
   ],
   "source": [
    "normalized"
   ]
  },
  {
   "cell_type": "code",
   "execution_count": 6,
   "metadata": {},
   "outputs": [],
   "source": [
    "normalized.to_csv('normalized.csv')"
   ]
  },
  {
   "cell_type": "code",
   "execution_count": null,
   "metadata": {},
   "outputs": [],
   "source": []
  }
 ],
 "metadata": {
  "kernelspec": {
   "display_name": "Python 3",
   "language": "python",
   "name": "python3"
  },
  "language_info": {
   "codemirror_mode": {
    "name": "ipython",
    "version": 3
   },
   "file_extension": ".py",
   "mimetype": "text/x-python",
   "name": "python",
   "nbconvert_exporter": "python",
   "pygments_lexer": "ipython3",
   "version": "3.8.3"
  }
 },
 "nbformat": 4,
 "nbformat_minor": 4
}
